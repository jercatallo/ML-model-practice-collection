{
 "cells": [
  {
   "cell_type": "markdown",
   "metadata": {},
   "source": [
    "# Model Training "
   ]
  },
  {
   "cell_type": "code",
   "execution_count": 1,
   "metadata": {},
   "outputs": [],
   "source": [
    "import pickle\n",
    "import time\n",
    "# import tenserf as tfjs\n",
    "import tensorflowjs as tfjs"
   ]
  },
  {
   "cell_type": "code",
   "execution_count": 2,
   "metadata": {},
   "outputs": [],
   "source": [
    "# Read file using pickle\n",
    "# rb - read in binary\n",
    "X = pickle.load(open('X.pkl', 'rb'))\n",
    "y = pickle.load(open('y.pkl', 'rb'))\n"
   ]
  },
  {
   "cell_type": "code",
   "execution_count": 3,
   "metadata": {},
   "outputs": [
    {
     "data": {
      "text/plain": [
       "(18400, 100, 100, 3)"
      ]
     },
     "execution_count": 3,
     "metadata": {},
     "output_type": "execute_result"
    }
   ],
   "source": [
    "# feature scaling\n",
    "# get all the values and dividing them into 255\n",
    "# less than the values faster calculation\n",
    "X = X/255\n",
    "\n",
    "# 16 IMAGES, 100 HEIGHT, 100 WIDTH, 3 CHANNELS(RGB)\n",
    "X.shape"
   ]
  },
  {
   "cell_type": "code",
   "execution_count": 4,
   "metadata": {},
   "outputs": [],
   "source": [
    "from keras.models import Sequential\n",
    "# Conv2D used for Convolution, MaxPooling2D used for max pooling, Flatten use for flattening, Dense is the hidden layer for the neural network\n",
    "from keras.layers import Conv2D, MaxPooling2D, Flatten, Dense\n",
    "from keras.callbacks import TensorBoard\n",
    "NAME = f'cat-vs-dog-prediction-{int(time.time())}'\n",
    "\n",
    "tenserboard = TensorBoard(log_dir=f'logs\\\\{NAME}\\\\')\n"
   ]
  },
  {
   "cell_type": "markdown",
   "metadata": {},
   "source": [
    "## Designing Model"
   ]
  },
  {
   "cell_type": "code",
   "execution_count": 5,
   "metadata": {},
   "outputs": [],
   "source": [
    "\n",
    "model = Sequential()\n",
    "\n",
    "# This is the convolution layer\n",
    "# 64 Convolution layers, Feature detector 3x3 Metrics, then we will do activation\n",
    "model.add(Conv2D(64,(3,3), activation=\"relu\"))\n",
    "# Max pooling layer\n",
    "model.add(MaxPooling2D((2,2)))\n",
    "\n",
    "# HERE WE WILL REPEAT THE CONVOLUTIONAL LAYER SO THAT IT CAN HAVE 2 LAYER, MORE ACCURACY AND LOWER LOSS\n",
    "\n",
    "# This is the convolution layer\n",
    "# 64 Convolution layers, Feature detector 3x3 Metrics, then we will do activation\n",
    "model.add(Conv2D(64,(3,3), activation=\"relu\"))\n",
    "# Max pooling layer\n",
    "model.add(MaxPooling2D((2,2)))\n",
    "\n",
    "# HERE WE WILL REPEAT THE CONVOLUTIONAL LAYER SO THAT IT CAN HAVE 3 LAYER, MORE ACCURACY AND LOWER LOSS\n",
    "\n",
    "# This is the convolution layer\n",
    "# 64 Convolution layers, Feature detector 3x3 Metrics, then we will do activation\n",
    "model.add(Conv2D(64,(3,3), activation=\"relu\"))\n",
    "# Max pooling layer\n",
    "model.add(MaxPooling2D((2,2)))\n",
    "\n",
    "# Flattening\n",
    "model.add(Flatten())\n",
    "\n",
    "# For neural network\n",
    "# 128 neurons, input_shape = 100, 100, 3\n",
    "model.add(Dense(128, input_shape= X.shape[1:], activation='relu'))\n",
    "\n",
    "# no input_shape because it wil ldirectly get the shape of the previous layer\n",
    "model.add(Dense(128, activation='relu'))\n",
    "\n",
    "# Output layer, 2 neurons because 2 label(cat,dog), softmax and sigmoid return value between 0 and 1\n",
    "model.add(Dense(2, activation= 'softmax'))"
   ]
  },
  {
   "cell_type": "code",
   "execution_count": 6,
   "metadata": {},
   "outputs": [],
   "source": [
    "# Loss and optimizers\n",
    "model.compile(optimizer= 'adam', loss='sparse_categorical_crossentropy', metrics=['accuracy'])"
   ]
  },
  {
   "cell_type": "code",
   "execution_count": 12,
   "metadata": {},
   "outputs": [
    {
     "ename": "InternalError",
     "evalue": "Failed copying input tensor from /job:localhost/replica:0/task:0/device:CPU:0 to /job:localhost/replica:0/task:0/device:GPU:0 in order to run _EagerConst: Dst tensor is not initialized.",
     "output_type": "error",
     "traceback": [
      "\u001b[1;31m---------------------------------------------------------------------------\u001b[0m",
      "\u001b[1;31mInternalError\u001b[0m                             Traceback (most recent call last)",
      "\u001b[1;32mc:\\Users\\JC\\Desktop\\Cats vs Dog Model\\Cats vs Dog Code\\training.ipynb Cell 9'\u001b[0m in \u001b[0;36m<cell line: 2>\u001b[1;34m()\u001b[0m\n\u001b[0;32m      <a href='vscode-notebook-cell:/c%3A/Users/JC/Desktop/Cats%20vs%20Dog%20Model/Cats%20vs%20Dog%20Code/training.ipynb#ch0000008?line=0'>1</a>\u001b[0m \u001b[39m# validation_split will split the datasets to training and assigning for validation(testing)\u001b[39;00m\n\u001b[1;32m----> <a href='vscode-notebook-cell:/c%3A/Users/JC/Desktop/Cats%20vs%20Dog%20Model/Cats%20vs%20Dog%20Code/training.ipynb#ch0000008?line=1'>2</a>\u001b[0m model\u001b[39m.\u001b[39;49mfit(X,y, epochs\u001b[39m=\u001b[39;49m\u001b[39m5\u001b[39;49m, validation_split\u001b[39m=\u001b[39;49m\u001b[39m0.1\u001b[39;49m, batch_size\u001b[39m=\u001b[39;49m\u001b[39m2\u001b[39;49m, callbacks\u001b[39m=\u001b[39;49m[tenserboard])\n",
      "File \u001b[1;32mc:\\Users\\JC\\anaconda3\\envs\\tf\\lib\\site-packages\\keras\\utils\\traceback_utils.py:67\u001b[0m, in \u001b[0;36mfilter_traceback.<locals>.error_handler\u001b[1;34m(*args, **kwargs)\u001b[0m\n\u001b[0;32m     65\u001b[0m \u001b[39mexcept\u001b[39;00m \u001b[39mException\u001b[39;00m \u001b[39mas\u001b[39;00m e:  \u001b[39m# pylint: disable=broad-except\u001b[39;00m\n\u001b[0;32m     66\u001b[0m   filtered_tb \u001b[39m=\u001b[39m _process_traceback_frames(e\u001b[39m.\u001b[39m__traceback__)\n\u001b[1;32m---> 67\u001b[0m   \u001b[39mraise\u001b[39;00m e\u001b[39m.\u001b[39mwith_traceback(filtered_tb) \u001b[39mfrom\u001b[39;00m \u001b[39mNone\u001b[39m\n\u001b[0;32m     68\u001b[0m \u001b[39mfinally\u001b[39;00m:\n\u001b[0;32m     69\u001b[0m   \u001b[39mdel\u001b[39;00m filtered_tb\n",
      "File \u001b[1;32mc:\\Users\\JC\\anaconda3\\envs\\tf\\lib\\site-packages\\tensorflow\\python\\framework\\constant_op.py:102\u001b[0m, in \u001b[0;36mconvert_to_eager_tensor\u001b[1;34m(value, ctx, dtype)\u001b[0m\n\u001b[0;32m    100\u001b[0m     dtype \u001b[39m=\u001b[39m dtypes\u001b[39m.\u001b[39mas_dtype(dtype)\u001b[39m.\u001b[39mas_datatype_enum\n\u001b[0;32m    101\u001b[0m ctx\u001b[39m.\u001b[39mensure_initialized()\n\u001b[1;32m--> 102\u001b[0m \u001b[39mreturn\u001b[39;00m ops\u001b[39m.\u001b[39;49mEagerTensor(value, ctx\u001b[39m.\u001b[39;49mdevice_name, dtype)\n",
      "\u001b[1;31mInternalError\u001b[0m: Failed copying input tensor from /job:localhost/replica:0/task:0/device:CPU:0 to /job:localhost/replica:0/task:0/device:GPU:0 in order to run _EagerConst: Dst tensor is not initialized."
     ]
    }
   ],
   "source": [
    "# validation_split will split the datasets to training and assigning for validation(testing)\n",
    "model.fit(X,y, epochs=10, validation_split=0.1, batch_size=128, callbacks=[tenserboard])"
   ]
  },
  {
   "cell_type": "code",
   "execution_count": null,
   "metadata": {},
   "outputs": [],
   "source": [
    "tfjs.converters.save_keras_model(model,'models')"
   ]
  },
  {
   "cell_type": "code",
   "execution_count": null,
   "metadata": {},
   "outputs": [],
   "source": []
  },
  {
   "cell_type": "code",
   "execution_count": null,
   "metadata": {},
   "outputs": [],
   "source": []
  },
  {
   "cell_type": "code",
   "execution_count": null,
   "metadata": {},
   "outputs": [],
   "source": []
  }
 ],
 "metadata": {
  "kernelspec": {
   "display_name": "Python 3.9.12 ('tf')",
   "language": "python",
   "name": "python3"
  },
  "language_info": {
   "codemirror_mode": {
    "name": "ipython",
    "version": 3
   },
   "file_extension": ".py",
   "mimetype": "text/x-python",
   "name": "python",
   "nbconvert_exporter": "python",
   "pygments_lexer": "ipython3",
   "version": "3.9.12"
  },
  "vscode": {
   "interpreter": {
    "hash": "e67edfc3a2dea00dda69cb1b43ce9b43d9c4d364003b3e207c17f34df46664f5"
   }
  }
 },
 "nbformat": 4,
 "nbformat_minor": 2
}
