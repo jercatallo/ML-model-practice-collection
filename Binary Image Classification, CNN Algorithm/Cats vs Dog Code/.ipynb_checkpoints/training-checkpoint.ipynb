{
 "cells": [
  {
   "cell_type": "markdown",
   "metadata": {},
   "source": [
    "# Model Training "
   ]
  },
  {
   "cell_type": "code",
   "execution_count": null,
   "metadata": {},
   "outputs": [],
   "source": [
    "import pickle\n",
    "import time\n",
    "# import tenserf as tfjs\n",
    "import tensorflowjs as tfjs"
   ]
  },
  {
   "cell_type": "code",
   "execution_count": null,
   "metadata": {},
   "outputs": [],
   "source": [
    "# Read file using pickle\n",
    "# rb - read in binary\n",
    "X = pickle.load(open('X.pkl', 'rb'))\n",
    "y = pickle.load(open('y.pkl', 'rb'))\n"
   ]
  },
  {
   "cell_type": "code",
   "execution_count": null,
   "metadata": {},
   "outputs": [],
   "source": [
    "# feature scaling\n",
    "# get all the values and dividing them into 255\n",
    "# less than the values faster calculation\n",
    "X = X/255\n",
    "\n",
    "# 16 IMAGES, 100 HEIGHT, 100 WIDTH, 3 CHANNELS(RGB)\n",
    "X.shape"
   ]
  },
  {
   "cell_type": "code",
   "execution_count": null,
   "metadata": {},
   "outputs": [],
   "source": [
    "from keras.models import Sequential\n",
    "# Conv2D used for Convolution, MaxPooling2D used for max pooling, Flatten use for flattening, Dense is the hidden layer for the neural network\n",
    "from keras.layers import Conv2D, MaxPooling2D, Flatten, Dense\n",
    "from keras.callbacks import TensorBoard\n",
    "NAME = f'cat-vs-dog-prediction-{int(time.time())}'\n",
    "\n",
    "tenserboard = TensorBoard(log_dir=f'logs\\\\{NAME}\\\\')\n"
   ]
  },
  {
   "cell_type": "markdown",
   "metadata": {},
   "source": [
    "## Designing Model"
   ]
  },
  {
   "cell_type": "code",
   "execution_count": null,
   "metadata": {},
   "outputs": [],
   "source": [
    "\n",
    "model = Sequential()\n",
    "\n",
    "# This is the convolution layer\n",
    "# 64 Convolution layers, Feature detector 3x3 Metrics, then we will do activation\n",
    "model.add(Conv2D(64,(3,3), activation=\"relu\"))\n",
    "# Max pooling layer\n",
    "model.add(MaxPooling2D((2,2)))\n",
    "\n",
    "# HERE WE WILL REPEAT THE CONVOLUTIONAL LAYER SO THAT IT CAN HAVE 2 LAYER, MORE ACCURACY AND LOWER LOSS\n",
    "\n",
    "# This is the convolution layer\n",
    "# 64 Convolution layers, Feature detector 3x3 Metrics, then we will do activation\n",
    "model.add(Conv2D(64,(3,3), activation=\"relu\"))\n",
    "# Max pooling layer\n",
    "model.add(MaxPooling2D((2,2)))\n",
    "\n",
    "# HERE WE WILL REPEAT THE CONVOLUTIONAL LAYER SO THAT IT CAN HAVE 3 LAYER, MORE ACCURACY AND LOWER LOSS\n",
    "\n",
    "# This is the convolution layer\n",
    "# 64 Convolution layers, Feature detector 3x3 Metrics, then we will do activation\n",
    "model.add(Conv2D(64,(3,3), activation=\"relu\"))\n",
    "# Max pooling layer\n",
    "model.add(MaxPooling2D((2,2)))\n",
    "\n",
    "# Flattening\n",
    "model.add(Flatten())\n",
    "\n",
    "# For neural network\n",
    "# 128 neurons, input_shape = 100, 100, 3\n",
    "model.add(Dense(128, input_shape= X.shape[1:], activation='relu'))\n",
    "\n",
    "# no input_shape because it wil ldirectly get the shape of the previous layer\n",
    "model.add(Dense(128, activation='relu'))\n",
    "\n",
    "# Output layer, 2 neurons because 2 label(cat,dog), softmax and sigmoid return value between 0 and 1\n",
    "model.add(Dense(2, activation= 'softmax'))"
   ]
  },
  {
   "cell_type": "code",
   "execution_count": null,
   "metadata": {},
   "outputs": [],
   "source": [
    "# Loss and optimizers\n",
    "model.compile(optimizer= 'adam', loss='sparse_categorical_crossentropy', metrics=['accuracy'])"
   ]
  },
  {
   "cell_type": "code",
   "execution_count": null,
   "metadata": {},
   "outputs": [],
   "source": [
    "# validation_split will split the datasets to training and assigning for validation(testing)\n",
    "model.fit(X,y, epochs=1, validation_split=0.1, batch_size=32, callbacks=[tenserboard])"
   ]
  },
  {
   "cell_type": "code",
   "execution_count": null,
   "metadata": {},
   "outputs": [],
   "source": [
    "tfjs.converters.save_keras_model(model,'models')"
   ]
  },
  {
   "cell_type": "code",
   "execution_count": null,
   "metadata": {},
   "outputs": [],
   "source": []
  },
  {
   "cell_type": "code",
   "execution_count": null,
   "metadata": {},
   "outputs": [],
   "source": []
  }
 ],
 "metadata": {
  "kernelspec": {
   "display_name": "Python 3 (ipykernel)",
   "language": "python",
   "name": "python3"
  },
  "language_info": {
   "codemirror_mode": {
    "name": "ipython",
    "version": 3
   },
   "file_extension": ".py",
   "mimetype": "text/x-python",
   "name": "python",
   "nbconvert_exporter": "python",
   "pygments_lexer": "ipython3",
   "version": "3.9.12"
  },
  "vscode": {
   "interpreter": {
    "hash": "ad239045c3b4ab49cec48b2a49245cabb58dd5a19c06b95745c9c2dbb9db7d87"
   }
  }
 },
 "nbformat": 4,
 "nbformat_minor": 2
}
